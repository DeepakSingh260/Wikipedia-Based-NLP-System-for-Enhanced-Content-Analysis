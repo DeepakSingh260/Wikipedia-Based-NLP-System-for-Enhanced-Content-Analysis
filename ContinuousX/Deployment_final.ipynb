{
  "cells": [
    {
      "cell_type": "code",
      "execution_count": null,
      "id": "25fc72ae-bcbf-4043-b2c9-6b08e4f1d0fa",
      "metadata": {
        "id": "25fc72ae-bcbf-4043-b2c9-6b08e4f1d0fa",
        "outputId": "91eceee9-52ee-4112-d9b3-04088138ced3"
      },
      "outputs": [
        {
          "name": "stdout",
          "output_type": "stream",
          "text": [
            "Cloning into '/home/jovyan/project/continuousx'...\n",
            "remote: Enumerating objects: 137, done.\u001b[K\n",
            "remote: Counting objects: 100% (137/137), done.\u001b[K\n",
            "remote: Compressing objects: 100% (91/91), done.\u001b[K\n",
            "remote: Total 137 (delta 44), reused 123 (delta 33), pack-reused 0 (from 0)\u001b[K\n",
            "Receiving objects: 100% (137/137), 35.23 KiB | 5.03 MiB/s, done.\n",
            "Resolving deltas: 100% (44/44), done.\n",
            "Submodule 'ansible/k8s/kubespray' (https://github.com/kubernetes-sigs/kubespray.git) registered for path 'ansible/k8s/kubespray'\n",
            "Cloning into '/home/jovyan/project/continuousx/ansible/k8s/kubespray'...\n",
            "remote: Enumerating objects: 81772, done.        \n",
            "remote: Counting objects: 100% (28/28), done.        \n",
            "remote: Compressing objects: 100% (19/19), done.        \n",
            "remote: Total 81772 (delta 20), reused 9 (delta 9), pack-reused 81744 (from 3)        \n",
            "Receiving objects: 100% (81772/81772), 26.10 MiB | 23.06 MiB/s, done.\n",
            "Resolving deltas: 100% (45837/45837), done.\n",
            "Submodule path 'ansible/k8s/kubespray': checked out '184b15f8aef4eba40c7433f509b0659b7b66fa44'\n"
          ]
        }
      ],
      "source": [
        "!git clone --recurse-submodules https://github.com/yashdarak9274/continuousxtemp.git ~/project/continuousx"
      ]
    },
    {
      "cell_type": "markdown",
      "id": "f5caed4c-032b-4c1f-9567-2d09bef629f0",
      "metadata": {
        "id": "f5caed4c-032b-4c1f-9567-2d09bef629f0"
      },
      "source": [
        "## Step1: Install Terraform (to be done before starting the project)-> as of now can manually do the following on kvm tacc\n",
        "### (doing on chi@tacc as of now since i had no configurations done on my kvm@tacc(key pair was not added)):\n",
        "1) create instance\n",
        "2) create floating ip\n"
      ]
    },
    {
      "cell_type": "markdown",
      "id": "f49ebe75-62fa-4da7-b793-c3054264189b",
      "metadata": {
        "id": "f49ebe75-62fa-4da7-b793-c3054264189b"
      },
      "source": [
        "## Step 2: Install Ansible (to install software tools )"
      ]
    },
    {
      "cell_type": "code",
      "execution_count": null,
      "id": "60e02f4d-e4cc-49cc-a1b0-0e89b9f7411d",
      "metadata": {
        "tags": [],
        "id": "60e02f4d-e4cc-49cc-a1b0-0e89b9f7411d",
        "outputId": "0f107579-11e9-46d1-941b-94553036d32a"
      },
      "outputs": [
        {
          "name": "stdout",
          "output_type": "stream",
          "text": [
            "env: PYTHONUSERBASE=~/project/.local\n",
            "Collecting ansible-core==2.16.9\n",
            "  Using cached ansible_core-2.16.9-py3-none-any.whl.metadata (6.9 kB)\n",
            "Collecting ansible==9.8.0\n",
            "  Using cached ansible-9.8.0-py3-none-any.whl.metadata (8.2 kB)\n",
            "Collecting jinja2>=3.0.0 (from ansible-core==2.16.9)\n",
            "  Downloading jinja2-3.1.6-py3-none-any.whl.metadata (2.9 kB)\n",
            "Collecting PyYAML>=5.1 (from ansible-core==2.16.9)\n",
            "  Downloading PyYAML-6.0.2-cp311-cp311-manylinux_2_17_x86_64.manylinux2014_x86_64.whl.metadata (2.1 kB)\n",
            "Collecting cryptography (from ansible-core==2.16.9)\n",
            "  Downloading cryptography-44.0.3-cp39-abi3-manylinux_2_34_x86_64.whl.metadata (5.7 kB)\n",
            "Collecting packaging (from ansible-core==2.16.9)\n",
            "  Downloading packaging-25.0-py3-none-any.whl.metadata (3.3 kB)\n",
            "Collecting resolvelib<1.1.0,>=0.5.3 (from ansible-core==2.16.9)\n",
            "  Using cached resolvelib-1.0.1-py2.py3-none-any.whl.metadata (4.0 kB)\n",
            "Collecting MarkupSafe>=2.0 (from jinja2>=3.0.0->ansible-core==2.16.9)\n",
            "  Downloading MarkupSafe-3.0.2-cp311-cp311-manylinux_2_17_x86_64.manylinux2014_x86_64.whl.metadata (4.0 kB)\n",
            "Collecting cffi>=1.12 (from cryptography->ansible-core==2.16.9)\n",
            "  Downloading cffi-1.17.1-cp311-cp311-manylinux_2_17_x86_64.manylinux2014_x86_64.whl.metadata (1.5 kB)\n",
            "Collecting pycparser (from cffi>=1.12->cryptography->ansible-core==2.16.9)\n",
            "  Downloading pycparser-2.22-py3-none-any.whl.metadata (943 bytes)\n",
            "Using cached ansible_core-2.16.9-py3-none-any.whl (2.3 MB)\n",
            "Using cached ansible-9.8.0-py3-none-any.whl (48.4 MB)\n",
            "Downloading jinja2-3.1.6-py3-none-any.whl (134 kB)\n",
            "\u001b[2K   \u001b[90m━━━━━━━━━━━━━━━━━━━━━━━━━━━━━━━━━━━━━━━━\u001b[0m \u001b[32m134.9/134.9 kB\u001b[0m \u001b[31m2.9 MB/s\u001b[0m eta \u001b[36m0:00:00\u001b[0m00:01\u001b[0m\n",
            "\u001b[?25hDownloading PyYAML-6.0.2-cp311-cp311-manylinux_2_17_x86_64.manylinux2014_x86_64.whl (762 kB)\n",
            "\u001b[2K   \u001b[90m━━━━━━━━━━━━━━━━━━━━━━━━━━━━━━━━━━━━━━━━\u001b[0m \u001b[32m763.0/763.0 kB\u001b[0m \u001b[31m17.3 MB/s\u001b[0m eta \u001b[36m0:00:00\u001b[0m00:01\u001b[0m\n",
            "\u001b[?25hUsing cached resolvelib-1.0.1-py2.py3-none-any.whl (17 kB)\n",
            "Downloading cryptography-44.0.3-cp39-abi3-manylinux_2_34_x86_64.whl (4.2 MB)\n",
            "\u001b[2K   \u001b[90m━━━━━━━━━━━━━━━━━━━━━━━━━━━━━━━━━━━━━━━━\u001b[0m \u001b[32m4.2/4.2 MB\u001b[0m \u001b[31m54.9 MB/s\u001b[0m eta \u001b[36m0:00:00\u001b[0m:00:01\u001b[0m0:01\u001b[0m\n",
            "\u001b[?25hDownloading packaging-25.0-py3-none-any.whl (66 kB)\n",
            "\u001b[2K   \u001b[90m━━━━━━━━━━━━━━━━━━━━━━━━━━━━━━━━━━━━━━━━\u001b[0m \u001b[32m66.5/66.5 kB\u001b[0m \u001b[31m3.8 MB/s\u001b[0m eta \u001b[36m0:00:00\u001b[0m\n",
            "\u001b[?25hDownloading cffi-1.17.1-cp311-cp311-manylinux_2_17_x86_64.manylinux2014_x86_64.whl (467 kB)\n",
            "\u001b[2K   \u001b[90m━━━━━━━━━━━━━━━━━━━━━━━━━━━━━━━━━━━━━━━━\u001b[0m \u001b[32m467.2/467.2 kB\u001b[0m \u001b[31m27.2 MB/s\u001b[0m eta \u001b[36m0:00:00\u001b[0m\n",
            "\u001b[?25hDownloading MarkupSafe-3.0.2-cp311-cp311-manylinux_2_17_x86_64.manylinux2014_x86_64.whl (23 kB)\n",
            "Downloading pycparser-2.22-py3-none-any.whl (117 kB)\n",
            "\u001b[2K   \u001b[90m━━━━━━━━━━━━━━━━━━━━━━━━━━━━━━━━━━━━━━━━\u001b[0m \u001b[32m117.6/117.6 kB\u001b[0m \u001b[31m9.7 MB/s\u001b[0m eta \u001b[36m0:00:00\u001b[0m\n",
            "\u001b[?25hInstalling collected packages: resolvelib, PyYAML, pycparser, packaging, MarkupSafe, jinja2, cffi, cryptography, ansible-core, ansible\n",
            "\u001b[33m  WARNING: The scripts ansible, ansible-config, ansible-connection, ansible-console, ansible-doc, ansible-galaxy, ansible-inventory, ansible-playbook, ansible-pull and ansible-vault are installed in '~/project/.local/bin' which is not on PATH.\n",
            "  Consider adding this directory to PATH or, if you prefer to suppress this warning, use --no-warn-script-location.\u001b[0m\u001b[33m\n",
            "\u001b[0m\u001b[33m  WARNING: The script ansible-community is installed in '~/project/.local/bin' which is not on PATH.\n",
            "  Consider adding this directory to PATH or, if you prefer to suppress this warning, use --no-warn-script-location.\u001b[0m\u001b[33m\n",
            "\u001b[0m\u001b[31mERROR: pip's dependency resolver does not currently take into account all the packages that are installed. This behaviour is the source of the following dependency conflicts.\n",
            "pyopenssl 23.2.0 requires cryptography!=40.0.0,!=40.0.1,<42,>=38.0.0, but you have cryptography 44.0.3 which is incompatible.\u001b[0m\u001b[31m\n",
            "\u001b[0mSuccessfully installed MarkupSafe-3.0.2 PyYAML-6.0.2 ansible-9.8.0 ansible-core-2.16.9 cffi-1.17.1 cryptography-44.0.3 jinja2-3.1.6 packaging-25.0 pycparser-2.22 resolvelib-1.0.1\n"
          ]
        }
      ],
      "source": [
        "# Set install location\n",
        "%env PYTHONUSERBASE=~/project/.local\n",
        "\n",
        "# Install ansible using pip to the custom directory\n",
        "!pip install --user --force-reinstall ansible-core==2.16.9 ansible==9.8.0\n"
      ]
    },
    {
      "cell_type": "code",
      "execution_count": null,
      "id": "c9bd909d-3dcf-463d-a131-783cd5e34dcb",
      "metadata": {
        "id": "c9bd909d-3dcf-463d-a131-783cd5e34dcb"
      },
      "outputs": [],
      "source": [
        "# runs in Chameleon Jupyter environment\n",
        "!export PATH=~/project/.local/bin:$PATH\n",
        "!export PYTHONUSERBASE=~/project/.local/bin"
      ]
    },
    {
      "cell_type": "code",
      "execution_count": null,
      "id": "42c4566f-f156-461f-b08e-0235d9329594",
      "metadata": {
        "tags": [],
        "id": "42c4566f-f156-461f-b08e-0235d9329594"
      },
      "outputs": [],
      "source": [
        "#create ansible.cfg file"
      ]
    },
    {
      "cell_type": "code",
      "execution_count": null,
      "id": "76dffaf6-1f4f-4e36-8830-4e4414e88de7",
      "metadata": {
        "tags": [],
        "id": "76dffaf6-1f4f-4e36-8830-4e4414e88de7"
      },
      "outputs": [],
      "source": [
        "%%bash\n",
        "cat <<EOF > ansible.cfg\n",
        "[defaults]\n",
        "stdout_callback = yaml\n",
        "inventory = $HOME/project/continuousx/ansible/inventory.yaml\n",
        "[ssh_connection]\n",
        "ssh_args = -o StrictHostKeyChecking=off -o UserKnownHostsFile=/dev/null\n",
        "EOF\n"
      ]
    },
    {
      "cell_type": "code",
      "execution_count": null,
      "id": "b3011bd5-fc74-4ab9-a81b-ffa2fad80a38",
      "metadata": {
        "tags": [],
        "id": "b3011bd5-fc74-4ab9-a81b-ffa2fad80a38"
      },
      "outputs": [],
      "source": [
        "!cp ansible.cfg ~/project/continuousx/ansible/ansible.cfg"
      ]
    },
    {
      "cell_type": "code",
      "execution_count": null,
      "id": "7ccf77fe-0fea-4d43-bbd2-c389d746478f",
      "metadata": {
        "tags": [],
        "id": "7ccf77fe-0fea-4d43-bbd2-c389d746478f"
      },
      "outputs": [],
      "source": [
        "!export PATH=/project~/.local/bin:$PATH\n",
        "!export PYTHONUSERBASE=~/project/.local/bin"
      ]
    },
    {
      "cell_type": "markdown",
      "id": "0ca86eae-f9b9-49a6-ad25-8c97f087c84c",
      "metadata": {
        "id": "0ca86eae-f9b9-49a6-ad25-8c97f087c84c"
      },
      "source": [
        "## Step 3: Install Kubernetes"
      ]
    },
    {
      "cell_type": "code",
      "execution_count": null,
      "id": "9a0e4d8b-ecdd-4528-9083-bce99ef24b46",
      "metadata": {
        "id": "9a0e4d8b-ecdd-4528-9083-bce99ef24b46",
        "outputId": "6e485796-36ce-4c1a-d465-d80a7ff160a4"
      },
      "outputs": [
        {
          "name": "stdout",
          "output_type": "stream",
          "text": [
            "Collecting ansible==9.8.0 (from -r /home/jovyan/project/continuousx/ansible/k8s/kubespray/requirements.txt (line 1))\n",
            "  Using cached ansible-9.8.0-py3-none-any.whl.metadata (8.2 kB)\n",
            "Collecting jmespath==1.0.1 (from -r /home/jovyan/project/continuousx/ansible/k8s/kubespray/requirements.txt (line 3))\n",
            "  Downloading jmespath-1.0.1-py3-none-any.whl.metadata (7.6 kB)\n",
            "Collecting jsonschema==4.23.0 (from -r /home/jovyan/project/continuousx/ansible/k8s/kubespray/requirements.txt (line 5))\n",
            "  Downloading jsonschema-4.23.0-py3-none-any.whl.metadata (7.9 kB)\n",
            "Collecting netaddr==1.3.0 (from -r /home/jovyan/project/continuousx/ansible/k8s/kubespray/requirements.txt (line 7))\n",
            "  Downloading netaddr-1.3.0-py3-none-any.whl.metadata (5.0 kB)\n",
            "Collecting ansible-core~=2.16.9 (from ansible==9.8.0->-r /home/jovyan/project/continuousx/ansible/k8s/kubespray/requirements.txt (line 1))\n",
            "  Downloading ansible_core-2.16.14-py3-none-any.whl.metadata (6.9 kB)\n",
            "Requirement already satisfied: attrs>=22.2.0 in /opt/conda/lib/python3.11/site-packages (from jsonschema==4.23.0->-r /home/jovyan/project/continuousx/ansible/k8s/kubespray/requirements.txt (line 5)) (23.1.0)\n",
            "Requirement already satisfied: jsonschema-specifications>=2023.03.6 in /opt/conda/lib/python3.11/site-packages (from jsonschema==4.23.0->-r /home/jovyan/project/continuousx/ansible/k8s/kubespray/requirements.txt (line 5)) (2023.7.1)\n",
            "Requirement already satisfied: referencing>=0.28.4 in /opt/conda/lib/python3.11/site-packages (from jsonschema==4.23.0->-r /home/jovyan/project/continuousx/ansible/k8s/kubespray/requirements.txt (line 5)) (0.30.2)\n",
            "Requirement already satisfied: rpds-py>=0.7.1 in /opt/conda/lib/python3.11/site-packages (from jsonschema==4.23.0->-r /home/jovyan/project/continuousx/ansible/k8s/kubespray/requirements.txt (line 5)) (0.10.6)\n",
            "Requirement already satisfied: jinja2>=3.0.0 in /opt/conda/lib/python3.11/site-packages (from ansible-core~=2.16.9->ansible==9.8.0->-r /home/jovyan/project/continuousx/ansible/k8s/kubespray/requirements.txt (line 1)) (3.1.2)\n",
            "Requirement already satisfied: PyYAML>=5.1 in /opt/conda/lib/python3.11/site-packages (from ansible-core~=2.16.9->ansible==9.8.0->-r /home/jovyan/project/continuousx/ansible/k8s/kubespray/requirements.txt (line 1)) (6.0.1)\n",
            "Requirement already satisfied: cryptography in /opt/conda/lib/python3.11/site-packages (from ansible-core~=2.16.9->ansible==9.8.0->-r /home/jovyan/project/continuousx/ansible/k8s/kubespray/requirements.txt (line 1)) (41.0.4)\n",
            "Requirement already satisfied: packaging in /opt/conda/lib/python3.11/site-packages (from ansible-core~=2.16.9->ansible==9.8.0->-r /home/jovyan/project/continuousx/ansible/k8s/kubespray/requirements.txt (line 1)) (23.2)\n",
            "Collecting resolvelib<1.1.0,>=0.5.3 (from ansible-core~=2.16.9->ansible==9.8.0->-r /home/jovyan/project/continuousx/ansible/k8s/kubespray/requirements.txt (line 1))\n",
            "  Using cached resolvelib-1.0.1-py2.py3-none-any.whl.metadata (4.0 kB)\n",
            "Requirement already satisfied: MarkupSafe>=2.0 in /opt/conda/lib/python3.11/site-packages (from jinja2>=3.0.0->ansible-core~=2.16.9->ansible==9.8.0->-r /home/jovyan/project/continuousx/ansible/k8s/kubespray/requirements.txt (line 1)) (2.1.3)\n",
            "Requirement already satisfied: cffi>=1.12 in /opt/conda/lib/python3.11/site-packages (from cryptography->ansible-core~=2.16.9->ansible==9.8.0->-r /home/jovyan/project/continuousx/ansible/k8s/kubespray/requirements.txt (line 1)) (1.16.0)\n",
            "Requirement already satisfied: pycparser in /opt/conda/lib/python3.11/site-packages (from cffi>=1.12->cryptography->ansible-core~=2.16.9->ansible==9.8.0->-r /home/jovyan/project/continuousx/ansible/k8s/kubespray/requirements.txt (line 1)) (2.21)\n",
            "Using cached ansible-9.8.0-py3-none-any.whl (48.4 MB)\n",
            "Downloading jmespath-1.0.1-py3-none-any.whl (20 kB)\n",
            "Downloading jsonschema-4.23.0-py3-none-any.whl (88 kB)\n",
            "\u001b[2K   \u001b[90m━━━━━━━━━━━━━━━━━━━━━━━━━━━━━━━━━━━━━━━━\u001b[0m \u001b[32m88.5/88.5 kB\u001b[0m \u001b[31m1.6 MB/s\u001b[0m eta \u001b[36m0:00:00\u001b[0ma \u001b[36m0:00:01\u001b[0m\n",
            "\u001b[?25hDownloading netaddr-1.3.0-py3-none-any.whl (2.3 MB)\n",
            "\u001b[2K   \u001b[90m━━━━━━━━━━━━━━━━━━━━━━━━━━━━━━━━━━━━━━━━\u001b[0m \u001b[32m2.3/2.3 MB\u001b[0m \u001b[31m30.3 MB/s\u001b[0m eta \u001b[36m0:00:00\u001b[0m00:01\u001b[0m00:01\u001b[0m\n",
            "\u001b[?25hDownloading ansible_core-2.16.14-py3-none-any.whl (2.3 MB)\n",
            "\u001b[2K   \u001b[90m━━━━━━━━━━━━━━━━━━━━━━━━━━━━━━━━━━━━━━━━\u001b[0m \u001b[32m2.3/2.3 MB\u001b[0m \u001b[31m61.2 MB/s\u001b[0m eta \u001b[36m0:00:00\u001b[0m:00:01\u001b[0m\n",
            "\u001b[?25hUsing cached resolvelib-1.0.1-py2.py3-none-any.whl (17 kB)\n",
            "Installing collected packages: resolvelib, netaddr, jmespath, jsonschema, ansible-core, ansible\n",
            "\u001b[33m  WARNING: The script netaddr is installed in '/home/jovyan/project/.local/bin' which is not on PATH.\n",
            "  Consider adding this directory to PATH or, if you prefer to suppress this warning, use --no-warn-script-location.\u001b[0m\u001b[33m\n",
            "\u001b[0m\u001b[33m  WARNING: The script jsonschema is installed in '/home/jovyan/project/.local/bin' which is not on PATH.\n",
            "  Consider adding this directory to PATH or, if you prefer to suppress this warning, use --no-warn-script-location.\u001b[0m\u001b[33m\n",
            "\u001b[0m\u001b[33m  WARNING: The scripts ansible, ansible-config, ansible-connection, ansible-console, ansible-doc, ansible-galaxy, ansible-inventory, ansible-playbook, ansible-pull and ansible-vault are installed in '/home/jovyan/project/.local/bin' which is not on PATH.\n",
            "  Consider adding this directory to PATH or, if you prefer to suppress this warning, use --no-warn-script-location.\u001b[0m\u001b[33m\n",
            "\u001b[0m\u001b[33m  WARNING: The script ansible-community is installed in '/home/jovyan/project/.local/bin' which is not on PATH.\n",
            "  Consider adding this directory to PATH or, if you prefer to suppress this warning, use --no-warn-script-location.\u001b[0m\u001b[33m\n",
            "\u001b[0mSuccessfully installed ansible-9.8.0 ansible-core-2.16.14 jmespath-1.0.1 jsonschema-4.23.0 netaddr-1.3.0 resolvelib-1.0.1\n"
          ]
        }
      ],
      "source": [
        "!PYTHONUSERBASE=~/project/.local pip install --user -r ~/project/continuousx/ansible/k8s/kubespray/requirements.txt\n"
      ]
    },
    {
      "cell_type": "code",
      "execution_count": null,
      "id": "c7e9e58e-5a94-4f30-a92b-4a30dc7dd4a0",
      "metadata": {
        "tags": [],
        "id": "c7e9e58e-5a94-4f30-a92b-4a30dc7dd4a0",
        "outputId": "9ecd2004-61e1-4717-eb25-59fba73dafb4"
      },
      "outputs": [
        {
          "name": "stdout",
          "output_type": "stream",
          "text": [
            "[defaults]\n",
            "stdout_callback = yaml\n",
            "inventory = /home/jovyan/project/continuousx/ansible/inventory.yaml\n",
            "[ssh_connection]\n",
            "ssh_args = -o StrictHostKeyChecking=off -o UserKnownHostsFile=/dev/null\n"
          ]
        }
      ],
      "source": [
        "cat ~/project/continuousx/ansible/ansible.cfg"
      ]
    },
    {
      "cell_type": "code",
      "execution_count": null,
      "id": "6c073e27-1024-4a6f-a423-dd676e825d17",
      "metadata": {
        "tags": [],
        "id": "6c073e27-1024-4a6f-a423-dd676e825d17",
        "outputId": "5dbfa5e5-8d80-481b-d911-11057082c28e"
      },
      "outputs": [
        {
          "name": "stdout",
          "output_type": "stream",
          "text": [
            "/home/jovyan/project/continuousx/ansible\n"
          ]
        }
      ],
      "source": [
        "cd ~/project/continuousx/ansible\n"
      ]
    },
    {
      "cell_type": "code",
      "execution_count": null,
      "id": "54cfe6ab-7cb7-425a-9f72-fa50cde87acd",
      "metadata": {
        "tags": [],
        "id": "54cfe6ab-7cb7-425a-9f72-fa50cde87acd"
      },
      "outputs": [],
      "source": [
        "#run following command on local terminal\n",
        "#scp -i ~/.ssh/key_group50 ~/.ssh/key_group50 cc@129.114.25.229:~\n"
      ]
    },
    {
      "cell_type": "code",
      "execution_count": null,
      "id": "bba1d7be-a00f-4ab5-a4cb-4a0078bd9e00",
      "metadata": {
        "id": "bba1d7be-a00f-4ab5-a4cb-4a0078bd9e00"
      },
      "outputs": [],
      "source": [
        "# #edit inventory.yml file with following:\n",
        "# all:\n",
        "#   vars:\n",
        "#     ansible_python_interpreter: /usr/bin/python3\n",
        "#   hosts:\n",
        "#     node1:\n",
        "#       ansible_host: 129.114.25.229\n",
        "#       ansible_user: cc\n",
        "#       ansible_ssh_private_key_file: /home/cc/key_group50\n"
      ]
    },
    {
      "cell_type": "code",
      "execution_count": null,
      "id": "5135f371-4b4b-46ec-9e33-59b1c245e8db",
      "metadata": {
        "tags": [],
        "id": "5135f371-4b4b-46ec-9e33-59b1c245e8db"
      },
      "outputs": [],
      "source": [
        "%%bash\n",
        "cat <<EOF > ansible.cfg\n",
        "[defaults]\n",
        "stdout_callback = yaml\n",
        "inventory = $HOME/project/continuousx/ansible/inventory.yaml\n",
        "\n",
        "[ssh_connection]\n",
        "ssh_args = -o StrictHostKeyChecking=no -o UserKnownHostsFile=/dev/null\n",
        "EOF\n"
      ]
    },
    {
      "cell_type": "code",
      "execution_count": null,
      "id": "e2d25655-a586-4e04-b93c-fe21aa2e657e",
      "metadata": {
        "id": "e2d25655-a586-4e04-b93c-fe21aa2e657e"
      },
      "outputs": [],
      "source": [
        "!chmod 600 /home/jovyan/project/continuousx/ansible/key/key_1/key_2/key_3/key_group50\n"
      ]
    },
    {
      "cell_type": "code",
      "execution_count": null,
      "id": "fffd1926-4d96-43d2-a879-7f6467d06cc8",
      "metadata": {
        "tags": [],
        "id": "fffd1926-4d96-43d2-a879-7f6467d06cc8",
        "outputId": "a4992130-df1c-4394-ad06-d4378ad8213b"
      },
      "outputs": [
        {
          "name": "stdout",
          "output_type": "stream",
          "text": [
            "\u001b[0;32mnode1 | SUCCESS => {\u001b[0m\n",
            "\u001b[0;32m    \"changed\": false,\u001b[0m\n",
            "\u001b[0;32m    \"ping\": \"pong\"\u001b[0m\n",
            "\u001b[0;32m}\u001b[0m\n"
          ]
        }
      ],
      "source": [
        "!ansible -i inventory.yml all -m ping\n"
      ]
    },
    {
      "cell_type": "code",
      "execution_count": null,
      "id": "7eff8ed7-d6ba-4b23-8b34-ea7f1244f260",
      "metadata": {
        "id": "7eff8ed7-d6ba-4b23-8b34-ea7f1244f260"
      },
      "outputs": [],
      "source": [
        "import os\n",
        "os.environ[\"PATH\"] = os.path.expanduser(\"~/project/.local/bin\") + \":\" + os.environ[\"PATH\"]\n"
      ]
    },
    {
      "cell_type": "code",
      "execution_count": null,
      "id": "81d810e9-0380-49ed-9d76-fd20d882d21c",
      "metadata": {
        "id": "81d810e9-0380-49ed-9d76-fd20d882d21c",
        "outputId": "c9442c0b-e77a-454c-97c6-aaf41cfe0bb4"
      },
      "outputs": [
        {
          "name": "stdout",
          "output_type": "stream",
          "text": [
            "ansible [core 2.16.9]\n",
            "  config file = /home/jovyan/project/continuousx/ansible/ansible.cfg\n",
            "  configured module search path = ['/home/jovyan/.ansible/plugins/modules', '/usr/share/ansible/plugins/modules']\n",
            "  ansible python module location = /home/jovyan/project/continuousx/ansible/~/project/.local/lib/python3.11/site-packages/ansible\n",
            "  ansible collection location = /home/jovyan/.ansible/collections:/usr/share/ansible/collections\n",
            "  executable location = /home/jovyan/project/.local/bin/ansible\n",
            "  python version = 3.11.6 | packaged by conda-forge | (main, Oct  3 2023, 10:40:35) [GCC 12.3.0] (/opt/conda/bin/python3.11)\n",
            "  jinja version = 3.1.6\n",
            "  libyaml = True\n"
          ]
        }
      ],
      "source": [
        "!ansible --version"
      ]
    },
    {
      "cell_type": "code",
      "execution_count": null,
      "id": "2a6de78b-3b34-488c-8006-9b6648e4ee29",
      "metadata": {
        "id": "2a6de78b-3b34-488c-8006-9b6648e4ee29"
      },
      "outputs": [],
      "source": [
        "#install kubernetes using ansible"
      ]
    },
    {
      "cell_type": "code",
      "execution_count": null,
      "id": "f560e5c4-f8bd-4983-a55f-4b0392a68e33",
      "metadata": {
        "id": "f560e5c4-f8bd-4983-a55f-4b0392a68e33"
      },
      "outputs": [],
      "source": [
        "# runs in Chameleon Jupyter environment\n",
        "!export PATH=/work/.local/bin:$PATH\n",
        "!export PYTHONUSERBASE=/work/.local"
      ]
    },
    {
      "cell_type": "code",
      "execution_count": null,
      "id": "1dac6b62-ce13-4675-bb52-8a3262225d1f",
      "metadata": {
        "id": "1dac6b62-ce13-4675-bb52-8a3262225d1f",
        "outputId": "8373e75b-6cab-40c3-99b2-3cb3f372e741"
      },
      "outputs": [
        {
          "name": "stdout",
          "output_type": "stream",
          "text": [
            "/bin/bash: line 1: cd: project/continuousx/ansible: No such file or directory\n",
            "\n",
            "PLAY [Disable and Mask firewalld] **********************************************\n",
            "\n",
            "TASK [Gathering Facts] *********************************************************\n",
            "\u001b[0;32mok: [node1]\u001b[0m\n",
            "\n",
            "TASK [Stop firewalld service] **************************************************\n",
            "\u001b[0;33mchanged: [node1]\u001b[0m\n",
            "\n",
            "TASK [Mask firewalld service] **************************************************\n",
            "\u001b[0;33mchanged: [node1]\u001b[0m\n",
            "\u001b[1;35m[WARNING]: Could not match supplied host pattern, ignoring: node2\u001b[0m\n",
            "\u001b[1;35m[WARNING]: Could not match supplied host pattern, ignoring: node3\u001b[0m\n",
            "\n",
            "PLAY [Set up insecure registry for Docker] *************************************\n",
            "\n",
            "TASK [Gathering Facts] *********************************************************\n",
            "\u001b[0;32mok: [node1]\u001b[0m\n",
            "\n",
            "TASK [Ensure /etc/docker directory exists] *************************************\n",
            "\u001b[0;32mok: [node1]\u001b[0m\n",
            "\n",
            "TASK [Create /etc/docker/daemon.json if not exists] ****************************\n",
            "\u001b[0;33mchanged: [node1]\u001b[0m\n",
            "\n",
            "TASK [Configure Docker daemon.json for insecure registry] **********************\n",
            "\u001b[0;33mchanged: [node1]\u001b[0m\n",
            "\n",
            "PLAY RECAP *********************************************************************\n",
            "\u001b[0;33mnode1\u001b[0m                      : \u001b[0;32mok=7   \u001b[0m \u001b[0;33mchanged=4   \u001b[0m unreachable=0    failed=0    skipped=0    rescued=0    ignored=0   \n",
            "\n"
          ]
        }
      ],
      "source": [
        "!cd project/continuousx/ansible\n",
        "!ansible-playbook -i inventory.yml pre_k8s/pre_k8s_configure.yml"
      ]
    },
    {
      "cell_type": "code",
      "execution_count": null,
      "id": "e40cecf6-72fd-419c-b45d-8dc36f134fc2",
      "metadata": {
        "id": "e40cecf6-72fd-419c-b45d-8dc36f134fc2"
      },
      "outputs": [],
      "source": [
        "!export ANSIBLE_CONFIG=~/project/continuousx_old/ansible/ansible.cfg\n",
        "!export ANSIBLE_ROLES_PATH=roles"
      ]
    },
    {
      "cell_type": "code",
      "execution_count": null,
      "id": "617e4565-6422-4e21-b6ea-efb3c99e914d",
      "metadata": {
        "id": "617e4565-6422-4e21-b6ea-efb3c99e914d"
      },
      "outputs": [],
      "source": []
    },
    {
      "cell_type": "code",
      "execution_count": null,
      "id": "cbc54c94-b786-4184-bac6-50fa4dc4379d",
      "metadata": {
        "id": "cbc54c94-b786-4184-bac6-50fa4dc4379d"
      },
      "outputs": [],
      "source": [
        "!cd ~/project/continuousx_old/ansible/k8s/kubespray\n",
        "!ansible-playbook -i ../inventory/mycluster --become --become-user=root ~/project/continuousx/ansible/k8s/kubespray/cluster.yml"
      ]
    },
    {
      "cell_type": "markdown",
      "source": [
        "## Argo Dashboard:"
      ],
      "metadata": {
        "id": "Q6xCaucl3vgy"
      },
      "id": "Q6xCaucl3vgy"
    },
    {
      "cell_type": "code",
      "source": [
        "#ssh on the node\n",
        "#ssh -L 8888:127.0.0.1:8888 -i ~/.ssh/id_rsa_chameleon cc@A.B.C.D\n"
      ],
      "metadata": {
        "id": "tm2b7Lc_3ubw"
      },
      "id": "tm2b7Lc_3ubw",
      "execution_count": 3,
      "outputs": []
    },
    {
      "cell_type": "code",
      "source": [
        "#kubectl port-forward svc/argocd-server -n argocd 8888:443\n",
        "\n",
        "#Open https://129.114.26.63:8888/\n"
      ],
      "metadata": {
        "id": "pm3hmtpP35e2"
      },
      "id": "pm3hmtpP35e2",
      "execution_count": null,
      "outputs": []
    },
    {
      "cell_type": "markdown",
      "source": [
        "## Using ArgoCD"
      ],
      "metadata": {
        "id": "TGFNuxad4cK7"
      },
      "id": "TGFNuxad4cK7"
    },
    {
      "cell_type": "code",
      "source": [
        "!export PATH=/work/.local/bin:$PATH\n",
        "!export PYTHONUSERBASE=/work/.local\n",
        "!export ANSIBLE_CONFIG=/work/gourmetgram-iac/ansible/ansible.cfg\n",
        "!export ANSIBLE_ROLES_PATH=roles"
      ],
      "metadata": {
        "id": "hc6qcC9W4pgG"
      },
      "id": "hc6qcC9W4pgG",
      "execution_count": null,
      "outputs": []
    },
    {
      "cell_type": "code",
      "source": [
        "!cd /project/continuousx/ansible\n",
        "!ansible-playbook -i inventory.yml argocd/argocd_add_platform.yml"
      ],
      "metadata": {
        "id": "89wyxvxg4KNo"
      },
      "id": "89wyxvxg4KNo",
      "execution_count": null,
      "outputs": []
    },
    {
      "cell_type": "markdown",
      "source": [
        "## Container images for staging and canary"
      ],
      "metadata": {
        "id": "RkXWLzqK_bID"
      },
      "id": "RkXWLzqK_bID"
    },
    {
      "cell_type": "code",
      "source": [
        "#container image for staging http://129.114.26.63:8081\n",
        "!cd /work/gourmetgram-iac/ansible\n",
        "!ansible-playbook -i inventory.yml argocd/argocd_add_staging.yml"
      ],
      "metadata": {
        "id": "XNWJ5U3w4KP6"
      },
      "id": "XNWJ5U3w4KP6",
      "execution_count": null,
      "outputs": []
    },
    {
      "cell_type": "code",
      "source": [
        "#container image for staging! http://129.114.26.63:8080\n",
        "!cd /work/gourmetgram-iac/ansible\n",
        "!ansible-playbook -i inventory.yml argocd/argocd_add_canary.yml\n"
      ],
      "metadata": {
        "id": "zibbr2h-4-ov"
      },
      "id": "zibbr2h-4-ov",
      "execution_count": null,
      "outputs": []
    }
  ],
  "metadata": {
    "kernelspec": {
      "display_name": "Python 3 (ipykernel)",
      "language": "python",
      "name": "python3"
    },
    "language_info": {
      "codemirror_mode": {
        "name": "ipython",
        "version": 3
      },
      "file_extension": ".py",
      "mimetype": "text/x-python",
      "name": "python",
      "nbconvert_exporter": "python",
      "pygments_lexer": "ipython3",
      "version": "3.11.6"
    },
    "colab": {
      "provenance": []
    }
  },
  "nbformat": 4,
  "nbformat_minor": 5
}