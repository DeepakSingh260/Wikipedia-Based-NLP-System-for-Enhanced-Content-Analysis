{
 "cells": [
  {
   "cell_type": "code",
   "execution_count": null,
   "id": "649dad39-817f-4ad1-8483-2851463c3b4e",
   "metadata": {
    "tags": []
   },
   "outputs": [],
   "source": [
    "from chi import server, context\n",
    "import chi, os, time, datetime\n",
    "\n",
    "context.version = \"1.0\"\n",
    "context.choose_project()\n",
    "context.choose_site(default=\"KVM@TACC\")"
   ]
  },
  {
   "cell_type": "code",
   "execution_count": null,
   "id": "fc516d10-3a7f-4af8-bd37-0100c55a54c3",
   "metadata": {
    "tags": []
   },
   "outputs": [],
   "source": [
    "username = os.getenv('USER')  # all exp resources will have this prefix\n",
    "s = server.Server(\n",
    "    f\"node-persist_project_50\",\n",
    "    image_name=\"CC-Ubuntu24.04\",\n",
    "    flavor_name=\"m1.large\"\n",
    ")\n",
    "s.submit(idempotent=True)"
   ]
  },
  {
   "cell_type": "code",
   "execution_count": 3,
   "id": "6f55f5a6-2c09-48eb-ab55-a91c4cb08eb9",
   "metadata": {
    "tags": []
   },
   "outputs": [],
   "source": [
    "s.associate_floating_ip()"
   ]
  },
  {
   "cell_type": "code",
   "execution_count": null,
   "id": "42f2c6ee-c797-48a5-a818-f6e291f4714d",
   "metadata": {
    "tags": []
   },
   "outputs": [],
   "source": [
    "s.refresh()\n",
    "s.show(type=\"widget\")"
   ]
  },
  {
   "cell_type": "code",
   "execution_count": null,
   "id": "ff876853-92a9-49d1-8f4f-6593640587e0",
   "metadata": {
    "tags": []
   },
   "outputs": [],
   "source": [
    "security_groups = [\n",
    "    {'name': \"allow-ssh\", 'port': 22, 'description': \"Enable SSH traffic on TCP port 22\"},\n",
    "    {'name': \"allow-8888\", 'port': 8888, 'description': \"Enable TCP port 8888 (used for Jupyter)\"},\n",
    "    {'name': \"allow-8000\", 'port': 8000, 'description': \"Enable TCP port 8000 (used for MLFlow)\"},\n",
    "    {'name': \"allow-9000\", 'port': 9000, 'description': \"Enable TCP port 9000 (used for MinIO)\"},\n",
    "    {'name': \"allow-9001\", 'port': 9001, 'description': \"Enable TCP port 9001 (used for MinIO Console)\"}\n",
    "]\n",
    "\n",
    "# configure openstacksdk for actions unsupported by python-chi\n",
    "os_conn = chi.clients.connection()\n",
    "nova_server = chi.nova().servers.get(s.id)\n",
    "for sg in security_groups:\n",
    "    if not os_conn.get_security_group(sg['name']):\n",
    "        os_conn.create_security_group(sg['name'], sg['description'])\n",
    "        os_conn.create_security_group_rule(sg['name'], port_range_min=sg['port'], port_range_max=sg['port'], protocol='tcp')\n",
    "    nova_server.add_security_group(sg['name'])\n",
    "print(f\"updated security groups: {[group.name for group in nova_server.list_security_group()]}\")\n",
    "s.refresh()\n",
    "s.check_connectivity()"
   ]
  },
  {
   "cell_type": "code",
   "execution_count": null,
   "id": "42139f24-d5c7-4e86-a619-1ae33daa3092",
   "metadata": {
    "tags": []
   },
   "outputs": [],
   "source": [
    "s.execute(\"git clone https://github.com/DeepakSingh260/Real-Time-News-Recommnedation-System\")\n",
    "s.execute(\"curl -sSL https://get.docker.com/ | sudo sh\")\n",
    "s.execute(\"sudo groupadd -f docker; sudo usermod -aG docker $USER\")"
   ]
  },
  {
   "cell_type": "code",
   "execution_count": null,
   "id": "0fd01738-897e-4a2e-9402-522bf8974e13",
   "metadata": {
    "tags": []
   },
   "outputs": [],
   "source": [
    "context.choose_site(default=\"CHI@TACC\")\n",
    "\n",
    "# Create object storage container\n",
    "object_container_name = f\"object-persist-project-50\"\n",
    "os_conn = chi.clients.connection()\n",
    "os_conn.create_container(object_container_name)\n",
    "print(f\"Created object container: {object_container_name}\")\n"
   ]
  },
  {
   "cell_type": "code",
   "execution_count": null,
   "id": "5a7e3758-e112-41be-81d1-588c6011a3fb",
   "metadata": {
    "tags": []
   },
   "outputs": [],
   "source": [
    "context.choose_site(default=\"KVM@TACC\")\n",
    "\n",
    "# Create a block storage volume\n",
    "cinder_client = chi.clients.cinder()\n",
    "volume_name = f\"block-persist-project-50\"\n",
    "volume = cinder_client.volumes.create(name=volume_name, size=5)  # 5 GiB\n",
    "print(f\"Created block storage volume: {volume_name}\")"
   ]
  },
  {
   "cell_type": "code",
   "execution_count": null,
   "id": "518108b5-c414-4e7c-844c-6f529e646320",
   "metadata": {
    "tags": []
   },
   "outputs": [],
   "source": [
    "volume_manager = chi.nova().volumes\n",
    "volume_manager.create_server_volume(server_id=s.id, volume_id=volume.id)\n",
    "print(f\"Attached volume {volume_name} to server node-persist_project_50\")"
   ]
  },
  {
   "cell_type": "code",
   "execution_count": null,
   "id": "30e54bbf-28ba-4092-8ada-66c6fbd5a2fd",
   "metadata": {
    "tags": []
   },
   "outputs": [],
   "source": [
    "rclone_setup = \"\"\"\n",
    "curl https://rclone.org/install.sh | sudo bash\n",
    "sudo sed -i '/^#user_allow_other/s/^#//' /etc/fuse.conf\n",
    "mkdir -p ~/.config/rclone\n",
    "cat > ~/.config/rclone/rclone.conf << EOF\n",
    "[chi_tacc]\n",
    "type = swift\n",
    "user_id = your_user_id\n",
    "application_credential_id = your_application_credential_id\n",
    "application_credential_secret = your_application_credential_secret\n",
    "auth = https://chi.tacc.chameleoncloud.org:5000/v3\n",
    "region = CHI@TACC\n",
    "EOF\n",
    "\"\"\"\n",
    "\n",
    "s.execute(rclone_setup)"
   ]
  },
  {
   "cell_type": "code",
   "execution_count": null,
   "id": "f173c287-f847-4585-ab8d-6d59318dde13",
   "metadata": {
    "tags": []
   },
   "outputs": [],
   "source": [
    "format_mount_cmd = \"\"\"\n",
    "sudo parted -s /dev/vdb mklabel gpt\n",
    "sudo parted -s /dev/vdb mkpart primary ext4 0% 100%\n",
    "sudo mkfs.ext4 /dev/vdb1\n",
    "sudo mkdir -p /mnt/block\n",
    "sudo mount /dev/vdb1 /mnt/block\n",
    "sudo chown -R cc /mnt/block\n",
    "sudo chgrp -R cc /mnt/block\n",
    "\"\"\"\n",
    "\n",
    "s.execute(format_mount_cmd)"
   ]
  },
  {
   "cell_type": "code",
   "execution_count": null,
   "id": "295b10c9-a9b3-4023-a4f5-401188d0e9ea",
   "metadata": {
    "tags": []
   },
   "outputs": [],
   "source": [
    "# Create a volume for the ETL pipeline\n",
    "docker_volume_cmd = \"docker volume create mind\"\n",
    "s.execute(docker_volume_cmd)\n",
    "\n",
    "# Run the extract data stage\n",
    "extract_cmd = \"docker compose -f ~/Real-Time-News-Recommnedation-System/Data\\\\ Pipeline/object_storage/docker-compose-mind-etl.yaml run download-data\"\n",
    "s.execute(extract_cmd)"
   ]
  },
  {
   "cell_type": "code",
   "execution_count": null,
   "id": "68574e91-14ac-4640-9f5a-0bf7834ef129",
   "metadata": {
    "tags": []
   },
   "outputs": [],
   "source": [
    "transform_cmd = \"docker compose -f ~/Real-Time-News-Recommnedation-System/Data\\\\ Pipeline/object_storage/docker-compose-mind-etl.yaml run transform-data\"\n",
    "s.execute(transform_cmd)"
   ]
  },
  {
   "cell_type": "code",
   "execution_count": null,
   "id": "842387cd-9a1c-4f80-ac7a-82ea0050433e",
   "metadata": {
    "tags": []
   },
   "outputs": [],
   "source": [
    "load_cmd = f\"RCLONE_CONTAINER={object_container_name} docker compose -f ~/Real-Time-News-Recommnedation-System/Data\\\\ Pipeline/object_storage/docker-compose-mind-etl.yaml run load-data\"\n",
    "s.execute(load_cmd)\n"
   ]
  },
  {
   "cell_type": "code",
   "execution_count": null,
   "id": "d6b240de-b4b4-41ae-9a48-8bb054a988b7",
   "metadata": {
    "tags": []
   },
   "outputs": [],
   "source": [
    "mount_cmd = f\"\"\"\n",
    "sudo mkdir -p /mnt/object\n",
    "sudo chown -R cc /mnt/object\n",
    "sudo chgrp -R cc /mnt/object\n",
    "rclone mount chi_tacc:{object_container_name} /mnt/object --read-only --allow-other --daemon\n",
    "\"\"\"\n",
    "s.execute(mount_cmd)"
   ]
  },
  {
   "cell_type": "code",
   "execution_count": null,
   "id": "e07a88e5-e5db-4286-9b2d-18c510797cda",
   "metadata": {
    "tags": []
   },
   "outputs": [],
   "source": [
    "# After mounting object storage, set up MLFlow and other services\n",
    "get_ip_cmd = \"hostname -I | awk '{print $1}'\"\n",
    "host_ip_result = s.execute(get_ip_cmd)\n",
    "host_ip = host_ip_result.stdout.strip()\n",
    "print(f\"Host IP: {host_ip}\")\n",
    "\n",
    "# Get the floating IP for external access\n",
    "get_floating_ip_cmd = \"curl -s ifconfig.me\"\n",
    "floating_ip_result = s.execute(get_floating_ip_cmd)\n",
    "floating_ip = floating_ip_result.stdout.strip()\n",
    "print(f\"Floating IP: {floating_ip}\")\n",
    "\n",
    "# Create directories on block storage for services\n",
    "dirs_cmd = \"\"\"\n",
    "mkdir -p /mnt/block/postgres_data\n",
    "mkdir -p /mnt/block/minio_data\n",
    "chmod 775 /mnt/block/postgres_data\n",
    "chmod 775 /mnt/block/minio_data\n",
    "\"\"\"\n",
    "s.execute(dirs_cmd)\n",
    "\n",
    "# Start the services using Docker Compose\n",
    "start_cmd = f\"\"\"\n",
    "cd ~/Real-Time-News-Recommnedation-System/Data\\\\ Pipeline/block_storage/ && \n",
    "HOST_IP={floating_ip} docker compose -f docker-compose-mind-complete.yaml up -d\n",
    "\"\"\"\n",
    "start_result = s.execute(start_cmd)\n",
    "print(f\"Started services: {start_result.stdout}\")\n",
    "\n",
    "# Create a Docker network for services to communicate\n",
    "network_cmd = \"docker network create news_network || true\"\n",
    "s.execute(network_cmd)\n",
    "print(\"Created Docker network\")\n",
    "\n",
    "# Connect existing containers to the network\n",
    "connect_cmd = \"\"\"\n",
    "for container in $(docker ps --format '{{.Names}}'); do\n",
    "    docker network connect news_network $container || true\n",
    "done\n",
    "\"\"\"\n",
    "s.execute(connect_cmd)\n",
    "print(\"Connected containers to network\")\n",
    "\n",
    "# Start Jupyter with access to our data and services\n",
    "jupyter_cmd = f\"\"\"\n",
    "docker run -d --rm \\\\\n",
    "    -p 8888:8888 \\\\\n",
    "    --shm-size 8G \\\\\n",
    "    --network news_network \\\\\n",
    "    -e MLFLOW_TRACKING_URI=http://{floating_ip}:8000 \\\\\n",
    "    -v ~/Real-Time-News-Recommnedation-System:/home/jovyan/work/ \\\\\n",
    "    --mount type=bind,source=/mnt/object,target=/mnt/news_data,readonly \\\\\n",
    "    --name jupyter_news \\\\\n",
    "    quay.io/jupyter/pytorch-notebook:latest\n",
    "\"\"\"\n",
    "jupyter_result = s.execute(jupyter_cmd)\n",
    "print(f\"Started Jupyter: {jupyter_result.stdout}\")\n",
    "\n",
    "# Install required packages in Jupyter\n",
    "packages_cmd = \"docker exec jupyter_news pip install mlflow torch requests pandas numpy matplotlib scikit-learn\"\n",
    "s.execute(packages_cmd)\n",
    "print(\"Installed packages in Jupyter\")"
   ]
  }
 ],
 "metadata": {
  "kernelspec": {
   "display_name": "Python 3 (ipykernel)",
   "language": "python",
   "name": "python3"
  },
  "language_info": {
   "codemirror_mode": {
    "name": "ipython",
    "version": 3
   },
   "file_extension": ".py",
   "mimetype": "text/x-python",
   "name": "python",
   "nbconvert_exporter": "python",
   "pygments_lexer": "ipython3",
   "version": "3.10.9"
  }
 },
 "nbformat": 4,
 "nbformat_minor": 5
}
